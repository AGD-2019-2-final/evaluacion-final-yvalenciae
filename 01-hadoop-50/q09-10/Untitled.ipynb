{
 "cells": [
  {
   "cell_type": "code",
   "execution_count": 4,
   "metadata": {},
   "outputs": [],
   "source": [
    "total=0\n",
    "cont = 0\n",
    "for i in [0, 1, 2, 3, 4]:\n",
    "    if cont < 3:\n",
    "        total = i+1\n",
    "        cont += 1\n",
    "    \n",
    "    "
   ]
  },
  {
   "cell_type": "code",
   "execution_count": 5,
   "metadata": {},
   "outputs": [
    {
     "data": {
      "text/plain": [
       "3"
      ]
     },
     "execution_count": 5,
     "metadata": {},
     "output_type": "execute_result"
    }
   ],
   "source": [
    "total"
   ]
  },
  {
   "cell_type": "code",
   "execution_count": null,
   "metadata": {},
   "outputs": [],
   "source": [
    "\n",
    "if __name__ == \"__main__\":\n",
    "    for line in sys.stdin:\n",
    "        line = line.strip()\n",
    "        line = line.split('   ')\n",
    "        numeros = line[0]\n",
    "        numeros = int(numeros)\n",
    "        f_numeros = \"{:03.0f}\".format(numeros)\n",
    "        letras = line[1]\n",
    "        letras= letras.rstrip('\\r\\n')\n",
    "        letras= letras.split(',')\n",
    "        for i in range(len(letras)):\n",
    "\t\t\tsys.stdout.write(\"{}\\t{}\\n\".format(str(letras[i]),f_numeros))"
   ]
  },
  {
   "cell_type": "code",
   "execution_count": null,
   "metadata": {},
   "outputs": [],
   "source": [
    "if __name__ == '__main__':\n",
    "\n",
    "    curkey = None\n",
    "    total = 0\n",
    "\n",
    "  \n",
    "    for line in sys.stdin:\n",
    "\n",
    "        key, val = line.split(\"\\t\")\n",
    "        val = int(val)\n",
    "\n",
    "        if key == curkey:\n",
    "         \n",
    "            total = str(total) + ',' + str(val)\n",
    "        else:\n",
    "         \n",
    "            if curkey is not None:\n",
    "                if curkey !=',':\n",
    "                    sys.stdout.write(\"{}\\t{}\\n\".format(curkey, total))\n",
    "\n",
    "            curkey = key\n",
    "            total = int(val)\n",
    "\n",
    "    sys.stdout.write(\"{}\\t{}\\n\".format(curkey, total))\n"
   ]
  },
  {
   "cell_type": "code",
   "execution_count": null,
   "metadata": {},
   "outputs": [],
   "source": [
    "if __name__ == \"__main__\":\n",
    "\tfor line in sys.stdin:\n",
    "        \n",
    "\t\tnum = int(line.split('\\t')[0])\n",
    "\t\tnumf = \"{:03.0f}\".format(num)\n",
    "\t\tlett = line.split('\\t')[1]\n",
    "\t\tlett = lett.rstrip('\\r\\n')\n",
    "\t\tlett_ = lett.split(',')\n",
    "\t\tfor i in range(len(lett)):\n",
    "\t\t\tsys.stdout.write(\"{}\\t{}\\n\".format(str(lett[i]),numf))"
   ]
  }
 ],
 "metadata": {
  "kernelspec": {
   "display_name": "Python 3",
   "language": "python",
   "name": "python3"
  },
  "language_info": {
   "codemirror_mode": {
    "name": "ipython",
    "version": 3
   },
   "file_extension": ".py",
   "mimetype": "text/x-python",
   "name": "python",
   "nbconvert_exporter": "python",
   "pygments_lexer": "ipython3",
   "version": "3.7.3"
  }
 },
 "nbformat": 4,
 "nbformat_minor": 2
}
